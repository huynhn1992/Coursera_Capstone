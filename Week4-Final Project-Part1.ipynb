{
 "cells": [
  {
   "cell_type": "markdown",
   "metadata": {},
   "source": [
    "## Capstone - Part 1"
   ]
  },
  {
   "cell_type": "markdown",
   "metadata": {},
   "source": [
    "### Introduction/ Business Problem"
   ]
  },
  {
   "cell_type": "markdown",
   "metadata": {},
   "source": [
    "#### How to choose the best location to start a Healthy Meal Delivery in Toronto"
   ]
  },
  {
   "cell_type": "markdown",
   "metadata": {},
   "source": [
    "The goal of this study is to help investors find the best location in one of the most populated city in Canada to open a Healthy Meal/Meal Prep store. The best location is a combination of people life style, target customer, competitors, and customer income. Toronto not only is Canada's business and financial capital but also attracts investment due to the size of the economy, cost of living, and quality of life according to Forbes. Those criteria make Toronto become the idea location to introduce a new food service like the Healthy Meal Prep and Delivery. However, the market for healthy meals prep has limited knowledge since it is a new food area. It is necessary to investigate the area to learn about people lifestyles, average income, and demographic, etc. \n",
    "\n",
    "The investors are interested in building in an area that meets the following criteria:\n",
    "\n",
    "- A neighborhood with an average to above average total population.\n",
    "- 50% of the average populations are female and male professionals from 25-45 year-old\n",
    "- High concentration of the population having a secondary degree/education\n",
    "- Average to above the median net household incomes.\n",
    "- Healthy food demand/ How people willing to spend on their meals..\n",
    "- Number of similar businesses below the average.\n",
    "- Renting cost\n",
    "\n",
    "which these criteria given above, the objective is to locate and recommend to investors which Toronto's  neighborhood(s) will be the best choice to start their healthy meal prep service business. The information gained will assist in choosing the right location by providing data about the population of each neighborhood, in addition to other established venues present in these areas.\n",
    "\n"
   ]
  },
  {
   "cell_type": "markdown",
   "metadata": {},
   "source": [
    "### Data"
   ]
  },
  {
   "cell_type": "markdown",
   "metadata": {},
   "source": [
    "***Canada Census of Population*** - provides age, sex, households, language, immigration, education, income, and labor. This will provide information of the demographic, social, and economic characteristics of household and people in each city of Toronto. \n",
    "\n",
    "***Mapping data*** - City of Toronto Neighborhood shape( Geojson file)\n",
    "\n",
    "***Boroughs of Toronto*** - 140 neighborhood of Toronto will be group into 6 distinct boroughs\n",
    "\n",
    "***Foursquare API*** - collect information on other venues/competitors in the neighborhood of Toronto"
   ]
  },
  {
   "cell_type": "markdown",
   "metadata": {},
   "source": []
  }
 ],
 "metadata": {
  "kernelspec": {
   "display_name": "Python 3",
   "language": "python",
   "name": "python3"
  },
  "language_info": {
   "codemirror_mode": {
    "name": "ipython",
    "version": 3
   },
   "file_extension": ".py",
   "mimetype": "text/x-python",
   "name": "python",
   "nbconvert_exporter": "python",
   "pygments_lexer": "ipython3",
   "version": "3.7.4"
  }
 },
 "nbformat": 4,
 "nbformat_minor": 2
}
